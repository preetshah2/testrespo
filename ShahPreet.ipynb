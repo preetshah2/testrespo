{
 "cells": [
  {
   "cell_type": "markdown",
   "id": "d39ba724",
   "metadata": {},
   "source": [
    "<div style=\"background-color: lightblue;border: 2px solid gray;\">\n",
    "    <h2 style =\"text-align:center; padding-top:5px;\"> CS 101 - Foundation of Data Science and Engineering  </h2><br>\n",
    "    <p style=\"text-align:center;padding:5px; fontt-size:14px\"><b> PSET-4 - Managing Data Excercise-2 (100 pts)<b></p> <br>\n",
    "</div>"
   ]
  },
  {
   "cell_type": "markdown",
   "id": "048c845d",
   "metadata": {},
   "source": [
    "### This is an individual assignment. No collaboration is allowed."
   ]
  },
  {
   "cell_type": "markdown",
   "id": "dabaa058",
   "metadata": {},
   "source": [
    "### Assignment Goal:\n",
    " \n",
    "**Part-1 : Explore Pandas, perform data cleaning using Pandas.**\n",
    "\n",
    "**Part-2 : Generate random sample data in SQL**\n",
    "\n",
    "**Part-3 : Practice writing SQL queries**\n",
    "\n",
    "\n",
    "    "
   ]
  },
  {
   "cell_type": "markdown",
   "id": "2ad46be2",
   "metadata": {},
   "source": [
    "**Start by reviewing the provided file nj_teachers_salaries_pset4.csv. Examine the column names, data types of this data file. After reviewing this file please provide your solutions for the questions below.**\n",
    "\n",
    "**Note: The file has identical columns that you worked on PSET-3, however all the data are not identical**"
   ]
  },
  {
   "cell_type": "markdown",
   "id": "7d5d0f1b",
   "metadata": {},
   "source": [
    "**Resources:**<br>\n",
    "**https://pandas.pydata.org/docs/reference/frame.html**<br>\n",
    "**Module 4 & Module 5 Lectures**\n"
   ]
  },
  {
   "cell_type": "markdown",
   "id": "add9d649",
   "metadata": {},
   "source": [
    "**Please feel free to create new cells in your notebook for completing the assignment.**"
   ]
  },
  {
   "cell_type": "markdown",
   "id": "e5709bcb",
   "metadata": {},
   "source": [
    "# Part-1 (60 points)"
   ]
  },
  {
   "cell_type": "markdown",
   "id": "8fe347e3",
   "metadata": {},
   "source": [
    "**In this part you will be working with Pandas to explore and clean data. For each of the questions, please make sure that you show your work on what was done in each step.**\n",
    "\n",
    "**For Example if you drop rows, be sure to show the how many rows were dropped at each step. You can use \n",
    "df.shape to show before and after count.**\n",
    "\n",
    "**For Questions 3-5 that involve modifying your values, you need to show us few rows where the modification was done. \n",
    "As an example you are looking at df['experience_total'] column and you discover that the column has values that are not numerical. You go ahead and set the values as np.NAN.  You should show that those values were indeed set  as nan**"
   ]
  },
  {
   "cell_type": "code",
   "execution_count": null,
   "id": "a291e796",
   "metadata": {},
   "outputs": [],
   "source": []
  },
  {
   "cell_type": "code",
   "execution_count": 152,
   "id": "a8464d6c",
   "metadata": {},
   "outputs": [],
   "source": [
    "import pandas as pd\n",
    "import numpy as np\n",
    "import mysql.connector as sq"
   ]
  },
  {
   "cell_type": "markdown",
   "id": "61d3ca40",
   "metadata": {},
   "source": [
    "## Question-1 (1 pts)"
   ]
  },
  {
   "cell_type": "markdown",
   "id": "3e434b31",
   "metadata": {},
   "source": [
    "### Create a dataframe called df using the provided csv file nj_teachers_salaries_pset4.csv. Use df.info() to get the information about the columns, non-null values, and data type inferred by Pandas for each column. \n",
    "\n",
    "**Pandas tries to infer the data type of each column. However if you have a numerical column, with an invalid value (such as a string), it will infer it as an object. String values are inferred as object data type.**"
   ]
  },
  {
   "cell_type": "code",
   "execution_count": 198,
   "id": "327c0e96",
   "metadata": {},
   "outputs": [
    {
     "name": "stdout",
     "output_type": "stream",
     "text": [
      "<class 'pandas.core.frame.DataFrame'>\n",
      "RangeIndex: 100005 entries, 0 to 100004\n",
      "Data columns (total 16 columns):\n",
      " #   Column               Non-Null Count   Dtype  \n",
      "---  ------               --------------   -----  \n",
      " 0   id                   99998 non-null   float64\n",
      " 1   last_name            100003 non-null  object \n",
      " 2   first_name           100003 non-null  object \n",
      " 3   county               100003 non-null  object \n",
      " 4   district             100003 non-null  object \n",
      " 5   school               100003 non-null  object \n",
      " 6   primary_job          100003 non-null  object \n",
      " 7   fte                  100003 non-null  object \n",
      " 8   salary               99983 non-null   object \n",
      " 9   certificate          100003 non-null  object \n",
      " 10  subcategory          100003 non-null  object \n",
      " 11  teaching_route       100003 non-null  object \n",
      " 12  highly_qualified     100003 non-null  object \n",
      " 13  experience_district  100003 non-null  object \n",
      " 14  experience_nj        100003 non-null  object \n",
      " 15  experience_total     99983 non-null   object \n",
      "dtypes: float64(1), object(15)\n",
      "memory usage: 12.2+ MB\n"
     ]
    },
    {
     "name": "stderr",
     "output_type": "stream",
     "text": [
      "/var/folders/44/bj7j3j2s1wn225x04psby4lm0000gn/T/ipykernel_81234/3364137758.py:2: DtypeWarning: Columns (7,8,13,14,15) have mixed types. Specify dtype option on import or set low_memory=False.\n",
      "  df = pd.read_csv(\"nj_teachers_salaries_pset4.csv\")\n"
     ]
    },
    {
     "data": {
      "text/plain": [
       "(100005, 16)"
      ]
     },
     "execution_count": 198,
     "metadata": {},
     "output_type": "execute_result"
    }
   ],
   "source": [
    "#your code here\n",
    "df = pd.read_csv(\"nj_teachers_salaries_pset4.csv\")\n",
    "df.info()\n",
    "df.shape"
   ]
  },
  {
   "cell_type": "markdown",
   "id": "bee0fe64",
   "metadata": {},
   "source": [
    "## Question-2 (1 pts)"
   ]
  },
  {
   "cell_type": "markdown",
   "id": "2028011c",
   "metadata": {},
   "source": [
    "### Drop rows that have all values as NaN. (Recall from lecture that you have to set the parameter how='all') "
   ]
  },
  {
   "cell_type": "code",
   "execution_count": 199,
   "id": "0cf108bd",
   "metadata": {},
   "outputs": [],
   "source": [
    "#your code here\n",
    "\n",
    "df.dropna(how=\"all\", inplace=True)"
   ]
  },
  {
   "cell_type": "code",
   "execution_count": 179,
   "id": "d20830cf-9482-4736-8914-10a3976119a8",
   "metadata": {},
   "outputs": [
    {
     "data": {
      "text/plain": [
       "(99954, 16)"
      ]
     },
     "execution_count": 179,
     "metadata": {},
     "output_type": "execute_result"
    }
   ],
   "source": [
    "df.shape"
   ]
  },
  {
   "cell_type": "markdown",
   "id": "8d34185d",
   "metadata": {
    "jp-MarkdownHeadingCollapsed": true
   },
   "source": [
    "## Question-3 (20 pts)"
   ]
  },
  {
   "cell_type": "markdown",
   "id": "2d614e58",
   "metadata": {},
   "source": [
    "### Numerical Columns :\n",
    "\n",
    "### Identify numerical columns excluding id column, remove any invalid characters from numerical columns by first setting it to np.NAN , and finally drop rows containing NaN values for the numerical columns. (5))\n",
    "\n",
    "### Set the correct data type for each of the numerical columns (i.e. int , float) (1)\n",
    "\n",
    "### Check the id column. Set the correct id number for rows that are NA/NaN. Set the correct dtype.(5)\n",
    "\n",
    "### At the end of this step your dataframe should not contain any invalid values for numerical values. Only invalid values should have been dropped. (5)\n",
    "\n",
    "\n",
    "### Please be sure to show your work, meaning , show few example rows that were actually modified. (4)   \n",
    "\n",
    "### Note : do not reset the index of the dataframe at any point. \n"
   ]
  },
  {
   "cell_type": "code",
   "execution_count": 232,
   "id": "5171405b-8861-4e0e-a7d6-b8a6d6b362cb",
   "metadata": {
    "scrolled": true
   },
   "outputs": [
    {
     "data": {
      "text/plain": [
       "(99954, 16)"
      ]
     },
     "execution_count": 232,
     "metadata": {},
     "output_type": "execute_result"
    }
   ],
   "source": [
    "#your code here\n",
    "\n",
    "df[['salary','experience_nj','experience_total','experience_district','fte']]=df[['salary','experience_nj','experience_total','experience_district','fte']].replace('[^0-90.0=0.9]',np.NAN,regex=True)\n",
    "\n",
    "df = df.dropna()\n",
    "df.shape\n"
   ]
  },
  {
   "cell_type": "code",
   "execution_count": 233,
   "id": "8b389199-e49c-4bf1-8c04-7638cf18aef4",
   "metadata": {},
   "outputs": [
    {
     "name": "stderr",
     "output_type": "stream",
     "text": [
      "/var/folders/44/bj7j3j2s1wn225x04psby4lm0000gn/T/ipykernel_81234/1462325299.py:1: SettingWithCopyWarning: \n",
      "A value is trying to be set on a copy of a slice from a DataFrame.\n",
      "Try using .loc[row_indexer,col_indexer] = value instead\n",
      "\n",
      "See the caveats in the documentation: https://pandas.pydata.org/pandas-docs/stable/user_guide/indexing.html#returning-a-view-versus-a-copy\n",
      "  df[\"salary\"] = df[\"salary\"].astype(int)\n",
      "/var/folders/44/bj7j3j2s1wn225x04psby4lm0000gn/T/ipykernel_81234/1462325299.py:2: SettingWithCopyWarning: \n",
      "A value is trying to be set on a copy of a slice from a DataFrame.\n",
      "Try using .loc[row_indexer,col_indexer] = value instead\n",
      "\n",
      "See the caveats in the documentation: https://pandas.pydata.org/pandas-docs/stable/user_guide/indexing.html#returning-a-view-versus-a-copy\n",
      "  df[['experience_nj','experience_total','experience_district','fte']] = df[['experience_nj','experience_total','experience_district','fte']].astype(float)\n"
     ]
    }
   ],
   "source": [
    "df[\"salary\"] = df[\"salary\"].astype(int)\n",
    "df[['experience_nj','experience_total','experience_district','fte']] = df[['experience_nj','experience_total','experience_district','fte']].astype(float)\n",
    "                                                                           \n",
    "                                                                           \n",
    "                                                                           \n",
    "                                                                           "
   ]
  },
  {
   "cell_type": "code",
   "execution_count": 234,
   "id": "a34ae810-2e6f-4796-972b-ff24044122dd",
   "metadata": {},
   "outputs": [
    {
     "name": "stderr",
     "output_type": "stream",
     "text": [
      "/var/folders/44/bj7j3j2s1wn225x04psby4lm0000gn/T/ipykernel_81234/1661157080.py:1: SettingWithCopyWarning: \n",
      "A value is trying to be set on a copy of a slice from a DataFrame.\n",
      "Try using .loc[row_indexer,col_indexer] = value instead\n",
      "\n",
      "See the caveats in the documentation: https://pandas.pydata.org/pandas-docs/stable/user_guide/indexing.html#returning-a-view-versus-a-copy\n",
      "  df['id'] = df['id'].interpolate()\n"
     ]
    },
    {
     "data": {
      "text/plain": [
       "(99954, 16)"
      ]
     },
     "execution_count": 234,
     "metadata": {},
     "output_type": "execute_result"
    }
   ],
   "source": [
    "df['id'] = df['id'].interpolate()\n",
    "df.shape"
   ]
  },
  {
   "cell_type": "code",
   "execution_count": null,
   "id": "032eab69-ce70-490b-9655-4d3b3f7100db",
   "metadata": {},
   "outputs": [],
   "source": []
  },
  {
   "cell_type": "code",
   "execution_count": null,
   "id": "13a48ba9-1a68-4397-9003-9c5f20f1042f",
   "metadata": {},
   "outputs": [],
   "source": []
  },
  {
   "cell_type": "code",
   "execution_count": null,
   "id": "32179431-d275-4c55-87fd-8c4617ab6a30",
   "metadata": {},
   "outputs": [],
   "source": []
  },
  {
   "cell_type": "markdown",
   "id": "f624f3e6",
   "metadata": {},
   "source": [
    "## Question-4 (5 pts)"
   ]
  },
  {
   "cell_type": "markdown",
   "id": "1db700d9",
   "metadata": {},
   "source": [
    "### String Columns:\n",
    "\n",
    "### Identify string/object columns. Remove any leading and trailing spaces. This can be applied to all string columns (3)\n",
    "### Show example rows/columns where leading and trailing spaces were removed.Hint : first_name,last_name have data values with leading and trailing spaces. Show at least 2 such examples where data values were modified for these columns. (2)\n",
    "\n",
    "### No rows should be dropped.\n",
    "\n",
    "\n"
   ]
  },
  {
   "cell_type": "code",
   "execution_count": 216,
   "id": "75a36ec1",
   "metadata": {},
   "outputs": [],
   "source": [
    "#your code here\n",
    "\n",
    "df[\"last_name\"] = df[\"last_name\"].str.strip()\n",
    "df[\"first_name\"] = df[\"first_name\"].str.strip()\n",
    "df[\"county\"] = df[\"county\"].str.strip()\n",
    "df[\"district\"] = df[\"district\"].str.strip()\n",
    "df[\"primary_job\"] = df[\"primary_job\"].str.strip()\n",
    "df[\"certificate\"] = df[\"certificate\"].str.strip()\n",
    "df[\"subcategory\"] = df[\"subcategory\"].str.strip()\n",
    "df[\"teaching_route\"] = df[\"teaching_route\"].str.strip()\n",
    "df[\"highly_qualified\"] = df[\"highly_qualified\"].str.strip()\n"
   ]
  },
  {
   "cell_type": "code",
   "execution_count": null,
   "id": "c0e21809-3609-40a0-9178-481a5826024c",
   "metadata": {},
   "outputs": [],
   "source": []
  },
  {
   "cell_type": "code",
   "execution_count": null,
   "id": "a72e768a-7256-4bc4-b774-90a4a95cbe05",
   "metadata": {},
   "outputs": [],
   "source": []
  },
  {
   "cell_type": "markdown",
   "id": "6f832694",
   "metadata": {},
   "source": [
    "## Question-5 (20 pts)"
   ]
  },
  {
   "cell_type": "markdown",
   "id": "06952cce",
   "metadata": {},
   "source": [
    "### Additional Cleaning - String Column :\n",
    "\n",
    "### Perform additional cleaning on string columns. Remove any special/invalid characters from the string columns.\n",
    "\n",
    "### Example :\n",
    "### df['primary_job'] contains a value 'Family & Consumer Sciences â€“ Apparel, Textiles And Interiors'.\n",
    "\n",
    "### The special character should be removed to give the value 'Family & Consumer Sciences  Apparel, Textiles And Interiors' (2.5 pts)\n",
    "\n",
    "\n",
    "### Perform data cleaning on at least 3 string columns. You will have to identify data values in your string columns, and remove any special characters. (7.5) pts\n",
    "\n",
    "### You should try to avoid setting string columns to np.NAN , and dropping it. However, it is ok if you set some rows to np.NAN and drop it for which values are completely invalid. In the end you should have approximately the same number of rows that you had after finishing Question 3. \n",
    "\n",
    "### We are not looking for a perfect solution. The data may still consist of invalid values. We are more interested in seeing how you have applied your learning to this assignment. \n",
    "\n",
    "\n",
    "### In all cases please show your work, meaning show us few example rows/columns where the data values were actually modified. (10 pts)\n",
    "\n",
    "### Note : In general letters, numbers, punctuations , & , /, \\, () , - , :, s'_,.,?!&/-:#@   are considered valid. You can choose to include more characters.  However, for first name and last name, teaching_route, subcategory you will want to choose only specific characters to be considered valid. \n"
   ]
  },
  {
   "cell_type": "code",
   "execution_count": 4,
   "id": "5f8858c1",
   "metadata": {},
   "outputs": [],
   "source": [
    "#your code here\n",
    "\n"
   ]
  },
  {
   "cell_type": "code",
   "execution_count": null,
   "id": "f2ee3ab4-4f36-42eb-a3d5-a440e28082cf",
   "metadata": {},
   "outputs": [],
   "source": []
  },
  {
   "cell_type": "code",
   "execution_count": null,
   "id": "08c11dbc-3ef5-4cfe-959e-b4236d5a37e1",
   "metadata": {},
   "outputs": [],
   "source": []
  },
  {
   "cell_type": "code",
   "execution_count": null,
   "id": "721c4c0a-e841-498e-9201-d648433c0885",
   "metadata": {},
   "outputs": [],
   "source": []
  },
  {
   "cell_type": "code",
   "execution_count": null,
   "id": "9e277b5b-f270-419c-b10c-b3fc92317c58",
   "metadata": {},
   "outputs": [],
   "source": []
  },
  {
   "cell_type": "code",
   "execution_count": null,
   "id": "c312c0e9-dc91-4da4-a1b1-ae34f803e34b",
   "metadata": {},
   "outputs": [],
   "source": []
  },
  {
   "cell_type": "code",
   "execution_count": null,
   "id": "f913d9a2-f03b-4a8f-a70a-b04edcc4321a",
   "metadata": {},
   "outputs": [],
   "source": []
  },
  {
   "cell_type": "markdown",
   "id": "908cf6bb",
   "metadata": {},
   "source": [
    "## Question-6 (1 pts)"
   ]
  },
  {
   "cell_type": "markdown",
   "id": "f97b70b1",
   "metadata": {},
   "source": [
    "### Drop any duplicate rows. Display df.info() to shows the data types, and Non-Null count. \n",
    "https://pandas.pydata.org/docs/reference/api/pandas.DataFrame.drop_duplicates.html"
   ]
  },
  {
   "cell_type": "code",
   "execution_count": 217,
   "id": "bad33d62",
   "metadata": {},
   "outputs": [
    {
     "data": {
      "text/html": [
       "<div>\n",
       "<style scoped>\n",
       "    .dataframe tbody tr th:only-of-type {\n",
       "        vertical-align: middle;\n",
       "    }\n",
       "\n",
       "    .dataframe tbody tr th {\n",
       "        vertical-align: top;\n",
       "    }\n",
       "\n",
       "    .dataframe thead th {\n",
       "        text-align: right;\n",
       "    }\n",
       "</style>\n",
       "<table border=\"1\" class=\"dataframe\">\n",
       "  <thead>\n",
       "    <tr style=\"text-align: right;\">\n",
       "      <th></th>\n",
       "      <th>id</th>\n",
       "      <th>last_name</th>\n",
       "      <th>first_name</th>\n",
       "      <th>county</th>\n",
       "      <th>district</th>\n",
       "      <th>school</th>\n",
       "      <th>primary_job</th>\n",
       "      <th>fte</th>\n",
       "      <th>salary</th>\n",
       "      <th>certificate</th>\n",
       "      <th>subcategory</th>\n",
       "      <th>teaching_route</th>\n",
       "      <th>highly_qualified</th>\n",
       "      <th>experience_district</th>\n",
       "      <th>experience_nj</th>\n",
       "      <th>experience_total</th>\n",
       "    </tr>\n",
       "  </thead>\n",
       "  <tbody>\n",
       "    <tr>\n",
       "      <th>0</th>\n",
       "      <td>1.0</td>\n",
       "      <td>Heckman</td>\n",
       "      <td>William</td>\n",
       "      <td>Bergen</td>\n",
       "      <td>River Edge Boro</td>\n",
       "      <td>Cherry Hill School</td>\n",
       "      <td>Elementary School Teacher K-5</td>\n",
       "      <td>1.0</td>\n",
       "      <td>98774</td>\n",
       "      <td>Standard certificate</td>\n",
       "      <td>General ed</td>\n",
       "      <td>Traditional</td>\n",
       "      <td>Not highly qualified</td>\n",
       "      <td>9.0</td>\n",
       "      <td>9.0</td>\n",
       "      <td>9</td>\n",
       "    </tr>\n",
       "    <tr>\n",
       "      <th>1</th>\n",
       "      <td>2.0</td>\n",
       "      <td>Bird</td>\n",
       "      <td>Kelly</td>\n",
       "      <td>Bergen</td>\n",
       "      <td>Wood-ridge Boro</td>\n",
       "      <td>Catherine E. Doyle Elementary School</td>\n",
       "      <td>Art</td>\n",
       "      <td>1.0</td>\n",
       "      <td>118415</td>\n",
       "      <td>Standard certificate</td>\n",
       "      <td>General ed</td>\n",
       "      <td>Traditional</td>\n",
       "      <td>Doesnt need to be highly qualified</td>\n",
       "      <td>13.0</td>\n",
       "      <td>13.0</td>\n",
       "      <td>13</td>\n",
       "    </tr>\n",
       "    <tr>\n",
       "      <th>2</th>\n",
       "      <td>3.0</td>\n",
       "      <td>Aikens</td>\n",
       "      <td>Crystal A</td>\n",
       "      <td>Bergen</td>\n",
       "      <td>Emerson Boro</td>\n",
       "      <td>Patrick M Villano School</td>\n",
       "      <td>Kindergarten</td>\n",
       "      <td>1.0</td>\n",
       "      <td>57919</td>\n",
       "      <td>Standard certificate</td>\n",
       "      <td>General ed</td>\n",
       "      <td>Alternate</td>\n",
       "      <td>Doesnt need to be highly qualified</td>\n",
       "      <td>7.0</td>\n",
       "      <td>7.0</td>\n",
       "      <td>7</td>\n",
       "    </tr>\n",
       "    <tr>\n",
       "      <th>3</th>\n",
       "      <td>4.0</td>\n",
       "      <td>Leonard</td>\n",
       "      <td>Isaiah</td>\n",
       "      <td>Gloucester</td>\n",
       "      <td>Deptford Twp</td>\n",
       "      <td>Deptford Township High School</td>\n",
       "      <td>Elementary Kindergraten-8 Grade</td>\n",
       "      <td>0.8</td>\n",
       "      <td>107746</td>\n",
       "      <td>CEAS</td>\n",
       "      <td>Special ed</td>\n",
       "      <td>Traditional</td>\n",
       "      <td>Doesn't need to be highly qualified</td>\n",
       "      <td>26.0</td>\n",
       "      <td>26.0</td>\n",
       "      <td>26</td>\n",
       "    </tr>\n",
       "    <tr>\n",
       "      <th>4</th>\n",
       "      <td>5.0</td>\n",
       "      <td>Hinton</td>\n",
       "      <td>Dustin</td>\n",
       "      <td>Camden</td>\n",
       "      <td>Cherry Hill Twp</td>\n",
       "      <td>Cherry Hill High School West</td>\n",
       "      <td>English Non-elementary</td>\n",
       "      <td>0.8</td>\n",
       "      <td>54277</td>\n",
       "      <td>Standard certificate</td>\n",
       "      <td>General ed</td>\n",
       "      <td>Traditional</td>\n",
       "      <td>Doesn't need to be highly qualified</td>\n",
       "      <td>5.0</td>\n",
       "      <td>5.0</td>\n",
       "      <td>5</td>\n",
       "    </tr>\n",
       "    <tr>\n",
       "      <th>...</th>\n",
       "      <td>...</td>\n",
       "      <td>...</td>\n",
       "      <td>...</td>\n",
       "      <td>...</td>\n",
       "      <td>...</td>\n",
       "      <td>...</td>\n",
       "      <td>...</td>\n",
       "      <td>...</td>\n",
       "      <td>...</td>\n",
       "      <td>...</td>\n",
       "      <td>...</td>\n",
       "      <td>...</td>\n",
       "      <td>...</td>\n",
       "      <td>...</td>\n",
       "      <td>...</td>\n",
       "      <td>...</td>\n",
       "    </tr>\n",
       "    <tr>\n",
       "      <th>100000</th>\n",
       "      <td>99999.0</td>\n",
       "      <td>Anderson</td>\n",
       "      <td>Jonathan</td>\n",
       "      <td>Morris</td>\n",
       "      <td>Dover Town</td>\n",
       "      <td>Dover High School</td>\n",
       "      <td>Kindergarten</td>\n",
       "      <td>1.0</td>\n",
       "      <td>102299</td>\n",
       "      <td>CEAS</td>\n",
       "      <td>Special ed</td>\n",
       "      <td>Traditional</td>\n",
       "      <td>Not highly qualified</td>\n",
       "      <td>21</td>\n",
       "      <td>39.0</td>\n",
       "      <td>37</td>\n",
       "    </tr>\n",
       "    <tr>\n",
       "      <th>100001</th>\n",
       "      <td>100000.0</td>\n",
       "      <td>Pearson</td>\n",
       "      <td>Frederick</td>\n",
       "      <td>Hudson</td>\n",
       "      <td>Weehawken Twp</td>\n",
       "      <td>Daniel Webster School</td>\n",
       "      <td>Health</td>\n",
       "      <td>0.8</td>\n",
       "      <td>81530</td>\n",
       "      <td>CEAS</td>\n",
       "      <td>Special ed</td>\n",
       "      <td>Alternate</td>\n",
       "      <td>Not highly qualified</td>\n",
       "      <td>25</td>\n",
       "      <td>17.0</td>\n",
       "      <td>29</td>\n",
       "    </tr>\n",
       "    <tr>\n",
       "      <th>100002</th>\n",
       "      <td>100001.0</td>\n",
       "      <td>Lin</td>\n",
       "      <td>Thomas</td>\n",
       "      <td>Essex</td>\n",
       "      <td>Newark City</td>\n",
       "      <td>Harriet Tubman Elementary School</td>\n",
       "      <td>Computer Literacy/applications/programming</td>\n",
       "      <td>1.0</td>\n",
       "      <td>96865</td>\n",
       "      <td>CEAS</td>\n",
       "      <td>Special ed</td>\n",
       "      <td>Traditional</td>\n",
       "      <td>Doesn't need to be highly qualified</td>\n",
       "      <td>11</td>\n",
       "      <td>11.0</td>\n",
       "      <td>32</td>\n",
       "    </tr>\n",
       "    <tr>\n",
       "      <th>100003</th>\n",
       "      <td>100002.0</td>\n",
       "      <td>Perez</td>\n",
       "      <td>Christopher</td>\n",
       "      <td>Bergen</td>\n",
       "      <td>Hackensack City</td>\n",
       "      <td>Hackensack High School</td>\n",
       "      <td>Preschool</td>\n",
       "      <td>0.5</td>\n",
       "      <td>93969</td>\n",
       "      <td>CEAS</td>\n",
       "      <td>Special ed</td>\n",
       "      <td>Traditional</td>\n",
       "      <td>Not highly qualified</td>\n",
       "      <td>34</td>\n",
       "      <td>10.0</td>\n",
       "      <td>38</td>\n",
       "    </tr>\n",
       "    <tr>\n",
       "      <th>100004</th>\n",
       "      <td>100003.0</td>\n",
       "      <td>Wilkerson</td>\n",
       "      <td>Bruce</td>\n",
       "      <td>Middlesex</td>\n",
       "      <td>New Brunswick City</td>\n",
       "      <td>New Brunswick High School</td>\n",
       "      <td>Mathematics Grades 5 - 8</td>\n",
       "      <td>1.0</td>\n",
       "      <td>108523</td>\n",
       "      <td>CEAS</td>\n",
       "      <td>Special ed</td>\n",
       "      <td>Traditional</td>\n",
       "      <td>Not highly qualified</td>\n",
       "      <td>8</td>\n",
       "      <td>25.0</td>\n",
       "      <td>16</td>\n",
       "    </tr>\n",
       "  </tbody>\n",
       "</table>\n",
       "<p>100003 rows × 16 columns</p>\n",
       "</div>"
      ],
      "text/plain": [
       "              id  last_name   first_name      county            district  \\\n",
       "0            1.0    Heckman      William      Bergen     River Edge Boro   \n",
       "1            2.0       Bird        Kelly      Bergen     Wood-ridge Boro   \n",
       "2            3.0     Aikens    Crystal A      Bergen        Emerson Boro   \n",
       "3            4.0    Leonard       Isaiah  Gloucester        Deptford Twp   \n",
       "4            5.0     Hinton       Dustin      Camden     Cherry Hill Twp   \n",
       "...          ...        ...          ...         ...                 ...   \n",
       "100000   99999.0   Anderson     Jonathan      Morris          Dover Town   \n",
       "100001  100000.0    Pearson    Frederick      Hudson       Weehawken Twp   \n",
       "100002  100001.0        Lin       Thomas       Essex         Newark City   \n",
       "100003  100002.0      Perez  Christopher      Bergen     Hackensack City   \n",
       "100004  100003.0  Wilkerson        Bruce   Middlesex  New Brunswick City   \n",
       "\n",
       "                                      school  \\\n",
       "0                         Cherry Hill School   \n",
       "1       Catherine E. Doyle Elementary School   \n",
       "2                   Patrick M Villano School   \n",
       "3              Deptford Township High School   \n",
       "4               Cherry Hill High School West   \n",
       "...                                      ...   \n",
       "100000                     Dover High School   \n",
       "100001                 Daniel Webster School   \n",
       "100002      Harriet Tubman Elementary School   \n",
       "100003                Hackensack High School   \n",
       "100004             New Brunswick High School   \n",
       "\n",
       "                                       primary_job  fte  salary  \\\n",
       "0                    Elementary School Teacher K-5  1.0   98774   \n",
       "1                                              Art  1.0  118415   \n",
       "2                                     Kindergarten  1.0   57919   \n",
       "3                  Elementary Kindergraten-8 Grade  0.8  107746   \n",
       "4                           English Non-elementary  0.8   54277   \n",
       "...                                            ...  ...     ...   \n",
       "100000                                Kindergarten  1.0  102299   \n",
       "100001                                      Health  0.8   81530   \n",
       "100002  Computer Literacy/applications/programming  1.0   96865   \n",
       "100003                                   Preschool  0.5   93969   \n",
       "100004                    Mathematics Grades 5 - 8  1.0  108523   \n",
       "\n",
       "                 certificate subcategory teaching_route  \\\n",
       "0       Standard certificate  General ed    Traditional   \n",
       "1       Standard certificate  General ed    Traditional   \n",
       "2       Standard certificate  General ed      Alternate   \n",
       "3                       CEAS  Special ed    Traditional   \n",
       "4       Standard certificate  General ed    Traditional   \n",
       "...                      ...         ...            ...   \n",
       "100000                  CEAS  Special ed    Traditional   \n",
       "100001                  CEAS  Special ed      Alternate   \n",
       "100002                  CEAS  Special ed    Traditional   \n",
       "100003                  CEAS  Special ed    Traditional   \n",
       "100004                  CEAS  Special ed    Traditional   \n",
       "\n",
       "                           highly_qualified experience_district experience_nj  \\\n",
       "0                      Not highly qualified                 9.0           9.0   \n",
       "1        Doesnt need to be highly qualified                13.0          13.0   \n",
       "2        Doesnt need to be highly qualified                 7.0           7.0   \n",
       "3       Doesn't need to be highly qualified                26.0          26.0   \n",
       "4       Doesn't need to be highly qualified                 5.0           5.0   \n",
       "...                                     ...                 ...           ...   \n",
       "100000                 Not highly qualified                  21          39.0   \n",
       "100001                 Not highly qualified                  25          17.0   \n",
       "100002  Doesn't need to be highly qualified                  11          11.0   \n",
       "100003                 Not highly qualified                  34          10.0   \n",
       "100004                 Not highly qualified                   8          25.0   \n",
       "\n",
       "       experience_total  \n",
       "0                     9  \n",
       "1                    13  \n",
       "2                     7  \n",
       "3                    26  \n",
       "4                     5  \n",
       "...                 ...  \n",
       "100000               37  \n",
       "100001               29  \n",
       "100002               32  \n",
       "100003               38  \n",
       "100004               16  \n",
       "\n",
       "[100003 rows x 16 columns]"
      ]
     },
     "execution_count": 217,
     "metadata": {},
     "output_type": "execute_result"
    }
   ],
   "source": [
    "#your code here\n",
    "\n",
    "df.drop_duplicates()"
   ]
  },
  {
   "cell_type": "code",
   "execution_count": null,
   "id": "c6f9562f-1eca-4f10-965b-abc051aa0777",
   "metadata": {},
   "outputs": [],
   "source": []
  },
  {
   "cell_type": "code",
   "execution_count": null,
   "id": "f4ca9b27-48f8-4410-a1b1-75cb24d0b50e",
   "metadata": {},
   "outputs": [],
   "source": []
  },
  {
   "cell_type": "markdown",
   "id": "1f6af6de",
   "metadata": {},
   "source": [
    "## Question -7 "
   ]
  },
  {
   "cell_type": "markdown",
   "id": "d7685921",
   "metadata": {},
   "source": [
    "### Save your cleaned dataframe as  cleaned_data.csv. Be sure to set the parameter index = False to avoid saving the index as an extra column\n",
    "\n",
    "ex:\n",
    "df.to_csv(\"cleaned_data.csv\", index=False)\n",
    "\n"
   ]
  },
  {
   "cell_type": "code",
   "execution_count": 219,
   "id": "8c6c91e3",
   "metadata": {},
   "outputs": [],
   "source": [
    "#your code here\n",
    "\n",
    "df.to_csv(\"cleaned_data.csv\", index=False)"
   ]
  },
  {
   "cell_type": "code",
   "execution_count": null,
   "id": "3b6d3085",
   "metadata": {},
   "outputs": [],
   "source": []
  },
  {
   "cell_type": "markdown",
   "id": "7a05cbf6",
   "metadata": {},
   "source": [
    "## Question -8"
   ]
  },
  {
   "cell_type": "markdown",
   "id": "af1908b9",
   "metadata": {},
   "source": [
    "### Similar to PSET-3 \n",
    "\n",
    "### 8.1 Connect to your MySql database using your username and password. Name the cursor returned from the mysql connection object as mycursor. (1 pts)\n",
    "\n",
    "\n",
    "### 8.2 Use the same database as PSET-3 nj_state_teachers_salaries, or if you have deleted it create a database called nj_state_teachers_salaries\n",
    "\n",
    "\n",
    "### 8.3 Create a table called teachers_salaries_pset4 with all the columns in your cleaned_data.csv. For this part ,be sure to use appropriate data type for all the columns.  If you are facing difficulty creating a column with Float or bool or int , it is ok to store it as TEXT. (MAX 2 allowed for numerical columns being stored as TEXT) (3 pts)\n",
    "\n",
    "\n",
    "### 8.4 Using LOAD DATA statement (as discussed in Module 4 lectures) load the data from cleaned_data.csv to your table created in 8.3. Use of OPTIONALLY ENCLOSED BY  clause and TERMINATED by clause is recommended. (3 pts)\n",
    "\n",
    "\n",
    "\n"
   ]
  },
  {
   "cell_type": "code",
   "execution_count": 220,
   "id": "0aa0e7ac",
   "metadata": {},
   "outputs": [],
   "source": [
    "#your code here\n",
    "mydb=sq.connect(host=\"localhost\", user=\"environmental\", passwd=\"codinguser23\", buffered=True)"
   ]
  },
  {
   "cell_type": "code",
   "execution_count": 221,
   "id": "e3123aa5",
   "metadata": {},
   "outputs": [],
   "source": [
    "#your code here\n",
    "mycursor = mydb.cursor()\n",
    "mycursor.execute(\"CREATE DATABASE nj_state_teachers_salaries;\")\n"
   ]
  },
  {
   "cell_type": "code",
   "execution_count": 222,
   "id": "a9c02aa0",
   "metadata": {},
   "outputs": [],
   "source": [
    "#your code here\n",
    "mycursor.execute(\"USE nj_state_teachers_salaries;\")\n",
    "\n",
    "mycursor.execute(\"CREATE TABLE teachers_salaries_pset4 (ID FLOAT NOT NULL, LAST_NAME varchar(100) NOT NULL, FIRST_NAME varchar(100) NOT NULL, COUNTY varchar(500) NOT NULL, DISTRICT varchar(500) NOT NULL, SCHOOL varchar(2000) NOT NULL, PRIMARY_JOB varchar(2000) NOT NULL, FTE FLOAT, SALARY INT NOT NULL, CERTIFICATE varchar(200) NOT NULL, SUBCATEGORY  varchar(300) NOT NULL, TEACHING_ROUTE varchar(300) NOT NULL, HGIHLY_QUALIFIED varchar(300) NOT NULL, EXPERIENCE_DISTRICT FLOAT NOT NULL, EXPERIENCE_NJ FLOAT NOT NULL, EXPERIENCE_TOTAL INT NOT NULL);\")\n"
   ]
  },
  {
   "cell_type": "code",
   "execution_count": 231,
   "id": "262fc1e9-46f9-46e4-a636-e9a726e1b0f3",
   "metadata": {},
   "outputs": [
    {
     "ename": "DatabaseError",
     "evalue": "1366 (HY000): Incorrect integer value: '' for column 'EXPERIENCE_TOTAL' at row 92",
     "output_type": "error",
     "traceback": [
      "\u001b[0;31m---------------------------------------------------------------------------\u001b[0m",
      "\u001b[0;31mMySQLInterfaceError\u001b[0m                       Traceback (most recent call last)",
      "File \u001b[0;32m~/anaconda3/lib/python3.11/site-packages/mysql/connector/connection_cext.py:633\u001b[0m, in \u001b[0;36mCMySQLConnection.cmd_query\u001b[0;34m(self, query, raw, buffered, raw_as_string)\u001b[0m\n\u001b[1;32m    632\u001b[0m         query \u001b[38;5;241m=\u001b[39m query\u001b[38;5;241m.\u001b[39mencode(\u001b[38;5;124m\"\u001b[39m\u001b[38;5;124mutf-8\u001b[39m\u001b[38;5;124m\"\u001b[39m)\n\u001b[0;32m--> 633\u001b[0m     \u001b[38;5;28mself\u001b[39m\u001b[38;5;241m.\u001b[39m_cmysql\u001b[38;5;241m.\u001b[39mquery(\n\u001b[1;32m    634\u001b[0m         query,\n\u001b[1;32m    635\u001b[0m         raw\u001b[38;5;241m=\u001b[39mraw,\n\u001b[1;32m    636\u001b[0m         buffered\u001b[38;5;241m=\u001b[39mbuffered,\n\u001b[1;32m    637\u001b[0m         raw_as_string\u001b[38;5;241m=\u001b[39mraw_as_string,\n\u001b[1;32m    638\u001b[0m         query_attrs\u001b[38;5;241m=\u001b[39m\u001b[38;5;28mself\u001b[39m\u001b[38;5;241m.\u001b[39mquery_attrs,\n\u001b[1;32m    639\u001b[0m     )\n\u001b[1;32m    640\u001b[0m \u001b[38;5;28;01mexcept\u001b[39;00m MySQLInterfaceError \u001b[38;5;28;01mas\u001b[39;00m err:\n",
      "\u001b[0;31mMySQLInterfaceError\u001b[0m: Incorrect integer value: '' for column 'EXPERIENCE_TOTAL' at row 92",
      "\nThe above exception was the direct cause of the following exception:\n",
      "\u001b[0;31mDatabaseError\u001b[0m                             Traceback (most recent call last)",
      "Cell \u001b[0;32mIn[231], line 1\u001b[0m\n\u001b[0;32m----> 1\u001b[0m mycursor\u001b[38;5;241m.\u001b[39mexecute(\u001b[38;5;124m\"\"\"\u001b[39m\u001b[38;5;124mLOAD DATA INFILE \u001b[39m\u001b[38;5;124m'\u001b[39m\u001b[38;5;124m/Users/preetshah/cnf/cs 101/pset4/cleaned_data.csv\u001b[39m\u001b[38;5;124m'\u001b[39m\n\u001b[1;32m      2\u001b[0m \u001b[38;5;124mINTO TABLE teachers_salaries_pset4\u001b[39m\n\u001b[1;32m      3\u001b[0m \u001b[38;5;124mFIELDS TERMINATED BY \u001b[39m\u001b[38;5;124m'\u001b[39m\u001b[38;5;124m,\u001b[39m\u001b[38;5;124m'\u001b[39m\n\u001b[1;32m      4\u001b[0m \u001b[38;5;124mOPTIONALLY ENCLOSED BY \u001b[39m\u001b[38;5;124m'\u001b[39m\u001b[38;5;130;01m\\\"\u001b[39;00m\u001b[38;5;124m'\u001b[39m\u001b[38;5;124m ESCAPED BY \u001b[39m\u001b[38;5;124m\"\u001b[39m\u001b[38;5;130;01m\\\\\u001b[39;00m\u001b[38;5;130;01m\\\\\u001b[39;00m\u001b[38;5;124m\"\u001b[39m\n\u001b[1;32m      5\u001b[0m \n\u001b[1;32m      6\u001b[0m \u001b[38;5;124mLINES TERMINATED BY \u001b[39m\u001b[38;5;124m'\u001b[39m\u001b[38;5;130;01m\\\\\u001b[39;00m\u001b[38;5;130;01m\\n\u001b[39;00m\u001b[38;5;124m'\u001b[39m\n\u001b[1;32m      7\u001b[0m \u001b[38;5;124mIGNORE 1 ROWS\u001b[39m\u001b[38;5;124m\"\"\"\u001b[39m)\n\u001b[1;32m      8\u001b[0m mydb\u001b[38;5;241m.\u001b[39mcommit()\n",
      "File \u001b[0;32m~/anaconda3/lib/python3.11/site-packages/mysql/connector/cursor_cext.py:330\u001b[0m, in \u001b[0;36mCMySQLCursor.execute\u001b[0;34m(self, operation, params, multi)\u001b[0m\n\u001b[1;32m    325\u001b[0m             \u001b[38;5;28;01mraise\u001b[39;00m ProgrammingError(\n\u001b[1;32m    326\u001b[0m                 \u001b[38;5;124m\"\u001b[39m\u001b[38;5;124mNot all parameters were used in the SQL statement\u001b[39m\u001b[38;5;124m\"\u001b[39m\n\u001b[1;32m    327\u001b[0m             )\n\u001b[1;32m    329\u001b[0m \u001b[38;5;28;01mtry\u001b[39;00m:\n\u001b[0;32m--> 330\u001b[0m     result \u001b[38;5;241m=\u001b[39m \u001b[38;5;28mself\u001b[39m\u001b[38;5;241m.\u001b[39m_cnx\u001b[38;5;241m.\u001b[39mcmd_query(\n\u001b[1;32m    331\u001b[0m         stmt,\n\u001b[1;32m    332\u001b[0m         raw\u001b[38;5;241m=\u001b[39m\u001b[38;5;28mself\u001b[39m\u001b[38;5;241m.\u001b[39m_raw,\n\u001b[1;32m    333\u001b[0m         buffered\u001b[38;5;241m=\u001b[39m\u001b[38;5;28mself\u001b[39m\u001b[38;5;241m.\u001b[39m_buffered,\n\u001b[1;32m    334\u001b[0m         raw_as_string\u001b[38;5;241m=\u001b[39m\u001b[38;5;28mself\u001b[39m\u001b[38;5;241m.\u001b[39m_raw_as_string,\n\u001b[1;32m    335\u001b[0m     )\n\u001b[1;32m    336\u001b[0m \u001b[38;5;28;01mexcept\u001b[39;00m MySQLInterfaceError \u001b[38;5;28;01mas\u001b[39;00m err:\n\u001b[1;32m    337\u001b[0m     \u001b[38;5;28;01mraise\u001b[39;00m get_mysql_exception(\n\u001b[1;32m    338\u001b[0m         msg\u001b[38;5;241m=\u001b[39merr\u001b[38;5;241m.\u001b[39mmsg, errno\u001b[38;5;241m=\u001b[39merr\u001b[38;5;241m.\u001b[39merrno, sqlstate\u001b[38;5;241m=\u001b[39merr\u001b[38;5;241m.\u001b[39msqlstate\n\u001b[1;32m    339\u001b[0m     ) \u001b[38;5;28;01mfrom\u001b[39;00m \u001b[38;5;21;01merr\u001b[39;00m\n",
      "File \u001b[0;32m~/anaconda3/lib/python3.11/site-packages/mysql/connector/opentelemetry/context_propagation.py:77\u001b[0m, in \u001b[0;36mwith_context_propagation.<locals>.wrapper\u001b[0;34m(cnx, *args, **kwargs)\u001b[0m\n\u001b[1;32m     75\u001b[0m \u001b[38;5;250m\u001b[39m\u001b[38;5;124;03m\"\"\"Context propagation decorator.\"\"\"\u001b[39;00m\n\u001b[1;32m     76\u001b[0m \u001b[38;5;28;01mif\u001b[39;00m \u001b[38;5;129;01mnot\u001b[39;00m OTEL_ENABLED \u001b[38;5;129;01mor\u001b[39;00m \u001b[38;5;129;01mnot\u001b[39;00m cnx\u001b[38;5;241m.\u001b[39motel_context_propagation:\n\u001b[0;32m---> 77\u001b[0m     \u001b[38;5;28;01mreturn\u001b[39;00m method(cnx, \u001b[38;5;241m*\u001b[39margs, \u001b[38;5;241m*\u001b[39m\u001b[38;5;241m*\u001b[39mkwargs)\n\u001b[1;32m     79\u001b[0m current_span \u001b[38;5;241m=\u001b[39m trace\u001b[38;5;241m.\u001b[39mget_current_span()\n\u001b[1;32m     80\u001b[0m tp_header \u001b[38;5;241m=\u001b[39m \u001b[38;5;28;01mNone\u001b[39;00m\n",
      "File \u001b[0;32m~/anaconda3/lib/python3.11/site-packages/mysql/connector/connection_cext.py:641\u001b[0m, in \u001b[0;36mCMySQLConnection.cmd_query\u001b[0;34m(self, query, raw, buffered, raw_as_string)\u001b[0m\n\u001b[1;32m    633\u001b[0m     \u001b[38;5;28mself\u001b[39m\u001b[38;5;241m.\u001b[39m_cmysql\u001b[38;5;241m.\u001b[39mquery(\n\u001b[1;32m    634\u001b[0m         query,\n\u001b[1;32m    635\u001b[0m         raw\u001b[38;5;241m=\u001b[39mraw,\n\u001b[0;32m   (...)\u001b[0m\n\u001b[1;32m    638\u001b[0m         query_attrs\u001b[38;5;241m=\u001b[39m\u001b[38;5;28mself\u001b[39m\u001b[38;5;241m.\u001b[39mquery_attrs,\n\u001b[1;32m    639\u001b[0m     )\n\u001b[1;32m    640\u001b[0m \u001b[38;5;28;01mexcept\u001b[39;00m MySQLInterfaceError \u001b[38;5;28;01mas\u001b[39;00m err:\n\u001b[0;32m--> 641\u001b[0m     \u001b[38;5;28;01mraise\u001b[39;00m get_mysql_exception(\n\u001b[1;32m    642\u001b[0m         err\u001b[38;5;241m.\u001b[39merrno, msg\u001b[38;5;241m=\u001b[39merr\u001b[38;5;241m.\u001b[39mmsg, sqlstate\u001b[38;5;241m=\u001b[39merr\u001b[38;5;241m.\u001b[39msqlstate\n\u001b[1;32m    643\u001b[0m     ) \u001b[38;5;28;01mfrom\u001b[39;00m \u001b[38;5;21;01merr\u001b[39;00m\n\u001b[1;32m    644\u001b[0m \u001b[38;5;28;01mexcept\u001b[39;00m \u001b[38;5;167;01mAttributeError\u001b[39;00m \u001b[38;5;28;01mas\u001b[39;00m err:\n\u001b[1;32m    645\u001b[0m     addr \u001b[38;5;241m=\u001b[39m (\n\u001b[1;32m    646\u001b[0m         \u001b[38;5;28mself\u001b[39m\u001b[38;5;241m.\u001b[39m_unix_socket \u001b[38;5;28;01mif\u001b[39;00m \u001b[38;5;28mself\u001b[39m\u001b[38;5;241m.\u001b[39m_unix_socket \u001b[38;5;28;01melse\u001b[39;00m \u001b[38;5;124mf\u001b[39m\u001b[38;5;124m\"\u001b[39m\u001b[38;5;132;01m{\u001b[39;00m\u001b[38;5;28mself\u001b[39m\u001b[38;5;241m.\u001b[39m_host\u001b[38;5;132;01m}\u001b[39;00m\u001b[38;5;124m:\u001b[39m\u001b[38;5;132;01m{\u001b[39;00m\u001b[38;5;28mself\u001b[39m\u001b[38;5;241m.\u001b[39m_port\u001b[38;5;132;01m}\u001b[39;00m\u001b[38;5;124m\"\u001b[39m\n\u001b[1;32m    647\u001b[0m     )\n",
      "\u001b[0;31mDatabaseError\u001b[0m: 1366 (HY000): Incorrect integer value: '' for column 'EXPERIENCE_TOTAL' at row 92"
     ]
    }
   ],
   "source": [
    "mycursor.execute(\"\"\"LOAD DATA INFILE '/Users/preetshah/cnf/cs 101/pset4/cleaned_data.csv'\n",
    "INTO TABLE teachers_salaries_pset4\n",
    "FIELDS TERMINATED BY ','\n",
    "OPTIONALLY ENCLOSED BY '\"' ESCAPED BY \"\\\\\\\\\"\n",
    "LINES TERMINATED BY '\\\\\\n'\n",
    "IGNORE 1 ROWS\"\"\")\n",
    "mydb.commit()\n"
   ]
  },
  {
   "cell_type": "markdown",
   "id": "dc7cb666",
   "metadata": {},
   "source": [
    "### Question 9 - For this question you are only required to run the cells. To get credit  your code from Question 8 must have been successfully run, and executed. No credit will be awarded if data was loaded using MySQL workbench. "
   ]
  },
  {
   "cell_type": "markdown",
   "id": "81271dfc",
   "metadata": {},
   "source": [
    "## Question 9 (5 pts)\n",
    "\n",
    "Run the 2 cells below. The code checks if all the data rows and columns were stored in the database. \n",
    "\n",
    "The code below assumes that you named your cursor object as mycursor(As specified in Question-8). If you named it differently, you can rename mycursor to match the variable name.\n"
   ]
  },
  {
   "cell_type": "code",
   "execution_count": 87,
   "id": "4c84b407",
   "metadata": {},
   "outputs": [
    {
     "name": "stdout",
     "output_type": "stream",
     "text": [
      "Number of rows in teachers_salaries table : 99959\n"
     ]
    }
   ],
   "source": [
    "cmd = \"select count(*) from \\\n",
    "                 nj_state_teachers_salaries.teachers_salaries_pset4 \"\n",
    "mycursor.execute(cmd)\n",
    "count = mycursor.fetchone()[0]\n",
    "\n",
    "print(f\"Number of rows in teachers_salaries table : {count}\")"
   ]
  },
  {
   "cell_type": "code",
   "execution_count": 88,
   "id": "a9f8d503",
   "metadata": {},
   "outputs": [
    {
     "name": "stdout",
     "output_type": "stream",
     "text": [
      "Number of columns in teachers_salaries table : 16\n"
     ]
    }
   ],
   "source": [
    "cmd = \"\"\"SELECT COUNT(*) \\\n",
    "                FROM INFORMATION_SCHEMA.COLUMNS \\\n",
    "                WHERE table_schema = 'nj_state_teachers_salaries' \\\n",
    "                AND table_name = 'teachers_salaries_pset4'\"\"\"\n",
    "mycursor.execute(cmd)\n",
    "count = mycursor.fetchone()[0]\n",
    "print(f\"Number of columns in teachers_salaries table : {count}\")        "
   ]
  },
  {
   "cell_type": "markdown",
   "id": "a203aacd",
   "metadata": {},
   "source": [
    "# End of Part-1"
   ]
  },
  {
   "cell_type": "code",
   "execution_count": null,
   "id": "e6b47ff0",
   "metadata": {},
   "outputs": [],
   "source": []
  },
  {
   "cell_type": "markdown",
   "id": "c82f9052",
   "metadata": {},
   "source": [
    "### For both Part-2 and Part-3 you will need to work on MySQL workbench. For both parts you must submit .sql files. More information below. \n"
   ]
  },
  {
   "cell_type": "markdown",
   "id": "29229e41",
   "metadata": {},
   "source": [
    "# Part-2 (10 pts)"
   ]
  },
  {
   "cell_type": "markdown",
   "id": "e5727a55",
   "metadata": {},
   "source": [
    "**For this part you will generate a random sample data from the table you created in Part-1 and save it as a csv file. Generating random samples have many use cases in the real world. For example, you are a developer who is working on a software application that requires access to a critical database. Instead you maybe given only a sample of data to work with to develop your application. Another use case is bootstrapping in statistics, or when you test your models with samples of data.**"
   ]
  },
  {
   "cell_type": "markdown",
   "id": "4b6daab5",
   "metadata": {},
   "source": [
    "## Question 1 (8 pts)"
   ]
  },
  {
   "cell_type": "markdown",
   "id": "3d6381b9",
   "metadata": {},
   "source": [
    "### Use a SELECT statement to generate and output a random sample to : \n",
    "### Include all columns \n",
    "### Include field (column) headings \n",
    "### Randomly select 777 records with a seed value of 7 \n",
    "### Output results to a csv file named sample.csv \n",
    "### save your sql as  output.sql . You will submit this file as a part of this assignment. \n",
    "\n",
    "**You will find module 5 lecture on SQL Random Sample Generation useful**"
   ]
  },
  {
   "cell_type": "code",
   "execution_count": null,
   "id": "b0dd4a04",
   "metadata": {},
   "outputs": [],
   "source": []
  },
  {
   "cell_type": "markdown",
   "id": "ee5c6647",
   "metadata": {},
   "source": [
    "## Question 2 (2 pts)"
   ]
  },
  {
   "cell_type": "markdown",
   "id": "09885ed7",
   "metadata": {},
   "source": [
    "### Create a dataframe using sample.csv generated from Question-1. Display the first 5 rows, and last 5 rows. Print the shape of the dataframe. "
   ]
  },
  {
   "cell_type": "code",
   "execution_count": 9,
   "id": "bcf04910",
   "metadata": {},
   "outputs": [],
   "source": [
    "#your code here\n",
    "\n"
   ]
  },
  {
   "cell_type": "code",
   "execution_count": null,
   "id": "f9f6892e-a68e-4044-a7c0-6540d176006c",
   "metadata": {},
   "outputs": [],
   "source": []
  },
  {
   "cell_type": "markdown",
   "id": "53d13a27",
   "metadata": {},
   "source": [
    "# Part-3 (30 pts)"
   ]
  },
  {
   "cell_type": "markdown",
   "id": "e4bfaae8",
   "metadata": {},
   "source": [
    "**For this part you will work on sql queries. You will write your queries for the provided dataset teachersample.csv. We could have asked you to write the queries based on the existing table nj_state_teachers_salaries.teachers_salaries_pset4 , however everyone's data cleaning process will be different resulting in different dataset.** \n",
    "\n",
    "**All work need to be done in MySQL workbench**"
   ]
  },
  {
   "cell_type": "markdown",
   "id": "2867b4ea",
   "metadata": {},
   "source": [
    "## Question 1 \n",
    "\n"
   ]
  },
  {
   "cell_type": "markdown",
   "id": "9ced2812",
   "metadata": {},
   "source": [
    "### Create a table called salaries within the nj_state_teachers_salaries database. Load the data in to the table from the provided file teachersample.csv. The teachersample.csv does not contain the id column. Please modify your table to work with this csv file. \n",
    "\n",
    "### You don't need to submit the code for this. This table is intended only for queries in Question-2. "
   ]
  },
  {
   "cell_type": "code",
   "execution_count": null,
   "id": "4500f520",
   "metadata": {},
   "outputs": [],
   "source": []
  },
  {
   "cell_type": "markdown",
   "id": "dbb786aa",
   "metadata": {},
   "source": [
    "## Question 2 (30 pts)\n",
    "## Each query is worth 3 pts."
   ]
  },
  {
   "cell_type": "markdown",
   "id": "8db6f76d",
   "metadata": {},
   "source": [
    "### Write the following queries in MySQL workbench, and name the file queries.sql.  The file you submit should have the exact name for you to get credit. We will run your query, so you don't need to capture the output. The file should include only the 10 queries. Be sure to test it before submission. \n",
    "\n",
    "**Example Query for your reference:**\n",
    "\n",
    "**select count(*) from nj_state_teachers_salaries.salaries**\n",
    "\n",
    "#### Note : Please include the name of the database and the table in each query as shown in the above example. Your file queries.sql should be able to execute any any machine that has the nj_state_teachers_salaries database and the salaries table. We will deduct upto 10 pts if queries.sql does not execute. \n"
   ]
  },
  {
   "cell_type": "code",
   "execution_count": null,
   "id": "0f160c0f-0f6c-4901-b922-94c994454d8d",
   "metadata": {},
   "outputs": [],
   "source": []
  },
  {
   "cell_type": "markdown",
   "id": "c3848fb2",
   "metadata": {
    "jp-MarkdownHeadingCollapsed": true
   },
   "source": [
    "### 1. Calculate the average salary "
   ]
  },
  {
   "cell_type": "markdown",
   "id": "1b4e5c0a",
   "metadata": {},
   "source": [
    "### 2. Calculate the number of people whose salary is more than 150,000. "
   ]
  },
  {
   "cell_type": "markdown",
   "id": "f18956d6",
   "metadata": {},
   "source": [
    "### 3. Get the last name of the ones who make more than 150,000 but have less than 5 years of total experience "
   ]
  },
  {
   "cell_type": "code",
   "execution_count": null,
   "id": "f6896e04",
   "metadata": {},
   "outputs": [],
   "source": []
  },
  {
   "cell_type": "markdown",
   "id": "86469e13",
   "metadata": {},
   "source": [
    "### 4. Get the highest salary for Preschool, School Counselor, Principal (anyone with the word Principal in the title), School Psychologist, and Kindergarten. (These are individual queries.  You should have 5 separate queries.) "
   ]
  },
  {
   "cell_type": "code",
   "execution_count": null,
   "id": "51bb4a1f",
   "metadata": {},
   "outputs": [],
   "source": []
  },
  {
   "cell_type": "markdown",
   "id": "63d4758e",
   "metadata": {},
   "source": [
    "### 5. Get the last name, first name, and salary of the lowest earner who works in Atlantic City "
   ]
  },
  {
   "cell_type": "markdown",
   "id": "fe78a518",
   "metadata": {},
   "source": [
    "### 6. Get the total number of employees working in Passaic City with more than ten years of total experience. "
   ]
  },
  {
   "cell_type": "code",
   "execution_count": null,
   "id": "43d94e14",
   "metadata": {},
   "outputs": [],
   "source": []
  },
  {
   "cell_type": "code",
   "execution_count": null,
   "id": "588dbd5d",
   "metadata": {},
   "outputs": [],
   "source": []
  },
  {
   "cell_type": "markdown",
   "id": "ad18a901",
   "metadata": {},
   "source": [
    "## Submission on Gradescope\n",
    "\n",
    "**Gradescope canvas left menu -> Gradescop -> PSET 4: Managing Data Excercise 2**\n",
    "\n",
    "**Submission :**\n",
    "\n",
    "**Part -1  : This jupyter notebook, and a pdf of this notebook.** \n",
    "\n",
    "**Part -2 : output.sql and sample.csv**\n",
    "\n",
    "**Part -3 :  queries.sql containing all your queries.  This file should only include the sql queries. Please don't include the code that created the salaries table.** \n",
    "\n",
    "\n",
    "\n",
    "**To create a pdf of this notebook :  In your browser open print, and save as pdf. Name the pdf LastNameFirstName.pdf\n",
    "example: DoeJohn.pdf**\n",
    "\n",
    "**Name this jupyter notebook with the same format LastNameFirstName.ipynb**\n",
    "\n",
    "\n",
    "**Make sure that your notebook has been run before creating pdf. Any outputs from running the code needs to be clearly visible. We need all the files from Part-1, Part-2, and Part-3 to assign you grades.** \n",
    "\n",
    "\n",
    "**Drop all the files in gradescope under PSET 4: Managing Data Exercise 2.**"
   ]
  },
  {
   "cell_type": "code",
   "execution_count": null,
   "id": "8950c84c-7936-44fe-b9e0-8161cbff16fa",
   "metadata": {},
   "outputs": [],
   "source": []
  },
  {
   "cell_type": "markdown",
   "id": "d1d3c134-b90a-48e7-9601-f1b640f045c1",
   "metadata": {},
   "source": [
    "### Submission Note (Please read)\n",
    "\n",
    "**After submitting your files on Gradescope , You may an error that says**\n",
    "\n",
    "**\"The autograder failed to execute correctly. Contact your course staff for help in debugging this issue. Make sure to include a link to this page so that they can help you most effectively.\"**\n",
    "\n",
    "### You don't have to take any action , and you do not need to contact us. The error is beacuse of some internal setup on Gradescope. As long as you have followed the specs, and submitted all the required files, you are good.\n"
   ]
  },
  {
   "cell_type": "code",
   "execution_count": null,
   "id": "9ba8b5cb-2696-4206-ab78-5ba338871a7d",
   "metadata": {},
   "outputs": [],
   "source": []
  }
 ],
 "metadata": {
  "kernelspec": {
   "display_name": "Python 3 (ipykernel)",
   "language": "python",
   "name": "python3"
  },
  "language_info": {
   "codemirror_mode": {
    "name": "ipython",
    "version": 3
   },
   "file_extension": ".py",
   "mimetype": "text/x-python",
   "name": "python",
   "nbconvert_exporter": "python",
   "pygments_lexer": "ipython3",
   "version": "3.11.4"
  }
 },
 "nbformat": 4,
 "nbformat_minor": 5
}
