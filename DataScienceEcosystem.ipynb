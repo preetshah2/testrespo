{
 "cells": [
  {
   "cell_type": "markdown",
   "id": "e4483d02-473a-491e-88ad-d2fd5e1dc569",
   "metadata": {},
   "source": [
    "<h1>Data Science Tools and Ecosystem</h1>"
   ]
  },
  {
   "cell_type": "markdown",
   "id": "e15adc06-c50f-480d-bd0d-31848acfdf56",
   "metadata": {},
   "source": [
    "In this notebook, Data Science Tools and Ecosystem are summarized."
   ]
  },
  {
   "cell_type": "markdown",
   "id": "361ce5ee-56a4-42b6-b177-f6ef2af26db6",
   "metadata": {},
   "source": [
    "<strong>Objectives:</strong>\n",
    "<ul>\n",
    "  <li>List popular languages for Data Science.</li>\n",
    "  <li>List popular libraries for Data Science.</li>\n",
    "  <li>List popular tools for Data Science.</li>\n",
    "  <li>basic Arithmetic</li>\n",
    "</ul>"
   ]
  },
  {
   "cell_type": "markdown",
   "id": "8a867052-d641-41c0-a77a-ad864a826f97",
   "metadata": {},
   "source": [
    "Some of the popular languages that Data Scientists use are:\n",
    "<ol>\n",
    "  <li>R</li>\n",
    "  <li>SQL</li>\n",
    "  <li>Python</li>\n",
    "  <li>Scala</li>\n",
    "  <li>Julia</li>\n",
    "</ol>"
   ]
  },
  {
   "cell_type": "markdown",
   "id": "40f7446a-f6eb-4fcc-8458-902fc161a5cc",
   "metadata": {},
   "source": [
    "Some of the commonly used libraries used by Data Scientists include:\n",
    "<ol>\n",
    "  <li>Numpy</li>\n",
    "  <li>ggplot</li>\n",
    "  <li>Tensorflow</li>\n",
    "  <li>Panda</li>\n",
    "  <li>Keras</li>\n",
    "</ol>"
   ]
  },
  {
   "cell_type": "markdown",
   "id": "1d064601-77f3-42d4-a830-0834afc71710",
   "metadata": {},
   "source": [
    "<table>\n",
    "  <thead>\n",
    "    <tr>\n",
    "      <th>Data Science Tools</th>\n",
    "    </tr>\n",
    "  </thead>\n",
    "  <tbody>\n",
    "    <tr>\n",
    "      <td>Rstudio</td>\n",
    "      </tr>\n",
    "      <tr>\n",
    "          <td>Watson</td>\n",
    "      </tr>\n",
    "      <tr>\n",
    "      <td>Jupyter notebook</td>\n",
    "    </tr>\n",
    "  </tbody>\n",
    "</table>"
   ]
  },
  {
   "cell_type": "markdown",
   "id": "f96dde73-ac0e-46e4-a727-7665e79c9d5b",
   "metadata": {},
   "source": [
    "<h3>Below are a few examples of evaluating arithmetic expressions in Python.</h3>"
   ]
  },
  {
   "cell_type": "code",
   "execution_count": 7,
   "id": "b8c47989-9c1c-4881-bb58-85adc7d54fab",
   "metadata": {
    "tags": []
   },
   "outputs": [
    {
     "data": {
      "text/plain": [
       "17"
      ]
     },
     "execution_count": 7,
     "metadata": {},
     "output_type": "execute_result"
    }
   ],
   "source": [
    "#This a simple arithmetic expression to mutiply then add integers\n",
    "(3*4)+5"
   ]
  },
  {
   "cell_type": "code",
   "execution_count": 12,
   "id": "2263b8aa-7caf-4fe2-bc2a-196fcfffc2ca",
   "metadata": {
    "tags": []
   },
   "outputs": [
    {
     "data": {
      "text/plain": [
       "3.3333333333333335"
      ]
     },
     "execution_count": 12,
     "metadata": {},
     "output_type": "execute_result"
    }
   ],
   "source": [
    "#This will convert 200 minutes to hours by diving by 60\n",
    "minutes = 200\n",
    "hours = minutes/60\n",
    "hours"
   ]
  },
  {
   "cell_type": "markdown",
   "id": "c009f671-adc1-41cd-97f8-9c7c5dd4a9f8",
   "metadata": {},
   "source": [
    "<h2>Author</h2>\n",
    "Preet"
   ]
  },
  {
   "cell_type": "code",
   "execution_count": null,
   "id": "784c4731-6b94-41c9-a1ec-dc53a95b2349",
   "metadata": {},
   "outputs": [],
   "source": []
  }
 ],
 "metadata": {
  "kernelspec": {
   "display_name": "Python",
   "language": "python",
   "name": "conda-env-python-py"
  },
  "language_info": {
   "codemirror_mode": {
    "name": "ipython",
    "version": 3
   },
   "file_extension": ".py",
   "mimetype": "text/x-python",
   "name": "python",
   "nbconvert_exporter": "python",
   "pygments_lexer": "ipython3",
   "version": "3.7.12"
  }
 },
 "nbformat": 4,
 "nbformat_minor": 5
}
